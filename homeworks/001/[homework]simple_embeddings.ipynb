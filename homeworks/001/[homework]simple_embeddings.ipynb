{
 "nbformat": 4,
 "nbformat_minor": 0,
 "metadata": {
  "kernelspec": {
   "display_name": "Python 3",
   "language": "python",
   "name": "python3"
  },
  "language_info": {
   "codemirror_mode": {
    "name": "ipython",
    "version": 3
   },
   "file_extension": ".py",
   "mimetype": "text/x-python",
   "name": "python",
   "nbconvert_exporter": "python",
   "pygments_lexer": "ipython3",
   "version": "3.7.2"
  },
  "colab": {
   "provenance": []
  }
 },
 "cells": [
  {
   "cell_type": "markdown",
   "metadata": {
    "id": "Ot3c4fjZwC4T"
   },
   "source": [
    "<img src=\"https://s8.hostingkartinok.com/uploads/images/2018/08/308b49fcfbc619d629fe4604bceb67ac.jpg\" width=500, height=450>\n",
    "<h3 style=\"text-align: center;\"><b>Физтех-Школа Прикладной математики и информатики (ФПМИ) МФТИ</b></h3>"
   ]
  },
  {
   "cell_type": "markdown",
   "metadata": {
    "id": "P2JdzEXmwRU5"
   },
   "source": [
    "---"
   ]
  },
  {
   "cell_type": "markdown",
   "metadata": {
    "id": "Fc8iHXIVwDwj"
   },
   "source": "***Some parts of the notebook are almost the copy of [ mmta-team course](https://github.com/mmta-team/mmta_fall_2020). Special thanks to mmta-team for making them publicly available. [Original notebook](https://github.com/mmta-team/mmta_fall_2020/blob/master/tasks/01_word_embeddings/task_word_embeddings.ipynb).***"
  },
  {
   "cell_type": "markdown",
   "metadata": {
    "id": "7D0wm5jt6j0U"
   },
   "source": [
    "<b> Прочитайте семинар, пожалуйста, для успешного выполнения домашнего задания. В конце ноутка напишите свой вывод. Работа без вывода оценивается ниже."
   ]
  },
  {
   "cell_type": "markdown",
   "metadata": {
    "id": "BIWqBuEa6j0b"
   },
   "source": [
    "## Задача поиска схожих по смыслу предложений"
   ]
  },
  {
   "cell_type": "markdown",
   "metadata": {
    "id": "NUkwMPLA6j0g"
   },
   "source": [
    "Мы будем ранжировать вопросы [StackOverflow](https://stackoverflow.com) на основе семантического векторного представления"
   ]
  },
  {
   "cell_type": "markdown",
   "metadata": {
    "id": "dNRXIEfu5a3Q"
   },
   "source": [
    "До этого в курсе не было речи про задачу ранжировния, поэтому введем математическую формулировку"
   ]
  },
  {
   "cell_type": "markdown",
   "metadata": {
    "id": "uS9FwWNd5a3S"
   },
   "source": [
    "## Задача ранжирования(Learning to Rank)"
   ]
  },
  {
   "cell_type": "markdown",
   "metadata": {
    "id": "wdwY9-f75a3T"
   },
   "source": [
    "* $X$ - множество объектов\n",
    "* $X^l = \\{x_1, x_2, ..., x_l\\}$ - обучающая выборка\n",
    "<br>На обучающей выборке задан порядок между некоторыми элементами, то есть нам известно, что некий объект выборки более релевантный для нас, чем другой:\n",
    "* $i \\prec j$ - порядок пары индексов объектов на выборке $X^l$ c индексами $i$ и $j$\n",
    "### Задача:\n",
    "построить ранжирующую функцию $a$ : $X \\rightarrow R$ такую, что\n",
    "$$i \\prec j \\Rightarrow a(x_i) < a(x_j)$$"
   ]
  },
  {
   "cell_type": "markdown",
   "metadata": {
    "id": "WG2IGBsh5a3U"
   },
   "source": [
    "<img src=\"https://d25skit2l41vkl.cloudfront.net/wp-content/uploads/2016/12/Featured-Image.jpg\" width=500, height=450>"
   ]
  },
  {
   "cell_type": "markdown",
   "metadata": {
    "id": "MQk_rolFwT_h"
   },
   "source": [
    "### Embeddings"
   ]
  },
  {
   "cell_type": "markdown",
   "metadata": {
    "id": "xUe1PGXn6j0l"
   },
   "source": [
    "Будем использовать предобученные векторные представления слов на постах Stack Overflow.<br>\n",
    "[A word2vec model trained on Stack Overflow posts](https://github.com/vefstathiou/SO_word2vec)"
   ]
  },
  {
   "cell_type": "code",
   "metadata": {
    "id": "mYkI54Y-rk7a",
    "colab": {
     "base_uri": "https://localhost:8080/"
    },
    "outputId": "79e4b5e0-9e6b-47b9-e41d-6361ba3b1e8d",
    "ExecuteTime": {
     "end_time": "2025-09-25T10:56:55.396207Z",
     "start_time": "2025-09-25T10:56:55.269965Z"
    }
   },
   "source": [
    "import requests, shutil\n",
    "from pathlib import Path\n",
    "\n",
    "url = \"https://zenodo.org/record/1199620/files/SO_vectors_200.bin?download=1\"\n",
    "out_path = \"SO_vectors_200.bin\"\n",
    "\n",
    "if not Path(out_path).exists():\n",
    "    with requests.get(url, stream=True) as r:\n",
    "        r.raise_for_status()\n",
    "        with open(out_path, \"wb\") as f:\n",
    "            shutil.copyfileobj(r.raw, f)\n",
    "\n",
    "print(\"Saved to\", out_path)"
   ],
   "outputs": [
    {
     "name": "stdout",
     "output_type": "stream",
     "text": [
      "Saved to SO_vectors_200.bin\n"
     ]
    }
   ],
   "execution_count": 1
  },
  {
   "cell_type": "code",
   "metadata": {
    "id": "O8YJTOYv6j0s",
    "ExecuteTime": {
     "end_time": "2025-09-25T10:57:15.085020Z",
     "start_time": "2025-09-25T10:56:55.478219Z"
    }
   },
   "source": [
    "from gensim.models.keyedvectors import KeyedVectors\n",
    "wv_embeddings = KeyedVectors.load_word2vec_format(\"SO_vectors_200.bin\", binary=True)"
   ],
   "outputs": [],
   "execution_count": 2
  },
  {
   "cell_type": "markdown",
   "metadata": {
    "id": "aIcT_g-C6j1E"
   },
   "source": [
    "#### Как пользоваться этими векторами?"
   ]
  },
  {
   "cell_type": "markdown",
   "metadata": {
    "id": "DWO5SPDY6j1G"
   },
   "source": [
    "Посмотрим на примере одного слова, что из себя представляет embedding"
   ]
  },
  {
   "cell_type": "code",
   "metadata": {
    "scrolled": true,
    "id": "KeSBlQfk6j1J",
    "ExecuteTime": {
     "end_time": "2025-09-25T10:57:15.291139Z",
     "start_time": "2025-09-25T10:57:15.284018Z"
    }
   },
   "source": [
    "word = 'dog'\n",
    "if word in wv_embeddings:\n",
    "    print(wv_embeddings[word].dtype, wv_embeddings[word].shape)"
   ],
   "outputs": [
    {
     "name": "stdout",
     "output_type": "stream",
     "text": [
      "float32 (200,)\n"
     ]
    }
   ],
   "execution_count": 3
  },
  {
   "cell_type": "code",
   "metadata": {
    "id": "T4Eq-D1qxpMJ",
    "ExecuteTime": {
     "end_time": "2025-09-25T10:57:15.435327Z",
     "start_time": "2025-09-25T10:57:15.430336Z"
    }
   },
   "source": [
    "print(f\"Num of words: {len(wv_embeddings.index_to_key)}\")"
   ],
   "outputs": [
    {
     "name": "stdout",
     "output_type": "stream",
     "text": [
      "Num of words: 1787145\n"
     ]
    }
   ],
   "execution_count": 4
  },
  {
   "cell_type": "markdown",
   "metadata": {
    "id": "ZT6NTCys6j1Q"
   },
   "source": [
    "Найдем наиболее близкие слова к слову `dog`:"
   ]
  },
  {
   "cell_type": "markdown",
   "metadata": {
    "id": "n08z2PjMwC5o"
   },
   "source": [
    "#### ***Вопрос 1:***\n",
    "* Входит ли слово `cat` в топ-5 близких слов к слову `dog`? Какое место оно занимает?\n"
   ]
  },
  {
   "cell_type": "code",
   "metadata": {
    "scrolled": true,
    "id": "nYwVz0xG6j1U",
    "ExecuteTime": {
     "end_time": "2025-09-25T10:57:16.506688Z",
     "start_time": "2025-09-25T10:57:15.541483Z"
    }
   },
   "source": [
    "topn = 5\n",
    "target = 'cat'\n",
    "\n",
    "similar = wv_embeddings.most_similar(word, topn=topn)\n",
    "ranks = [w for w, _ in similar]\n",
    "if target in ranks:\n",
    "    print(f\"Да, '{target}' в топ-{topn}. Место: {ranks.index(target) + 1}\")\n",
    "else:\n",
    "    print(f\"'{target}' не входит в топ-{topn} ближайших слов к '{target}'.\")\n"
   ],
   "outputs": [
    {
     "name": "stdout",
     "output_type": "stream",
     "text": [
      "'cat' не входит в топ-5 ближайших слов к 'cat'.\n"
     ]
    }
   ],
   "execution_count": 5
  },
  {
   "cell_type": "markdown",
   "source": [
    "***Ваш ответ:*** 'cat' не входит в топ-5 ближайших слов к 'dog'."
   ],
   "metadata": {
    "id": "7Wu7O43AY5jH"
   }
  },
  {
   "cell_type": "markdown",
   "metadata": {
    "id": "ai48-5vv6j1d"
   },
   "source": [
    "### Векторные представления текста\n",
    "\n",
    "Перейдем от векторных представлений отдельных слов к векторным представлениям вопросов, как к **среднему** векторов всех слов в вопросе. Если для какого-то слова нет предобученного вектора, то его нужно пропустить. Если вопрос не содержит ни одного известного слова, то нужно вернуть нулевой вектор."
   ]
  },
  {
   "metadata": {
    "ExecuteTime": {
     "end_time": "2025-09-25T10:57:18.306338Z",
     "start_time": "2025-09-25T10:57:16.621120Z"
    }
   },
   "cell_type": "code",
   "source": [
    "import numpy as np\n",
    "\n",
    "from nltk.tokenize import WordPunctTokenizer\n",
    "tokenizer = WordPunctTokenizer()\n",
    "\n",
    "def question_to_vec(quest:str, embeddings:KeyedVectors, tokenizer_engine:WordPunctTokenizer, dim:int=200)->np.ndarray:\n",
    "    \"\"\"\n",
    "        quest: строка\n",
    "        embeddings: наше векторное представление\n",
    "        tokenizer_engine: токенайзер\n",
    "        dim: размер любого вектора в нашем представлении\n",
    "\n",
    "        return: векторное представление для вопроса\n",
    "    \"\"\"\n",
    "    if embeddings.vector_size != dim:\n",
    "        raise ValueError(\"wrong dim\")\n",
    "\n",
    "    tokens = tokenizer_engine.tokenize(quest)\n",
    "    summ = np.zeros(dim, dtype=np.float32)\n",
    "    count = 0\n",
    "    for token in tokens:\n",
    "        current_token = token.lower()\n",
    "        if current_token in embeddings:\n",
    "            vec = embeddings[current_token]\n",
    "            summ += vec\n",
    "            count = count + 1\n",
    "\n",
    "    if count > 0:\n",
    "        summ = summ / count\n",
    "\n",
    "    return summ\n"
   ],
   "outputs": [],
   "execution_count": 6
  },
  {
   "cell_type": "markdown",
   "metadata": {
    "id": "u5Q_4j7r6j1u"
   },
   "source": [
    "Теперь у нас есть метод для создания векторного представления любого предложения."
   ]
  },
  {
   "cell_type": "markdown",
   "metadata": {
    "id": "EsJSNkhm6j1y"
   },
   "source": [
    "#### ***Вопрос 2:***\n",
    "\n",
    "* Какая третья (с индексом 2) компонента вектора предложения `I love neural networks` (округлите до 2 знаков после запятой)?"
   ]
  },
  {
   "cell_type": "code",
   "metadata": {
    "scrolled": true,
    "id": "a62r11cT6j10",
    "ExecuteTime": {
     "end_time": "2025-09-25T10:57:18.436260Z",
     "start_time": "2025-09-25T10:57:18.428771Z"
    }
   },
   "source": [
    "# Предложение\n",
    "question = \"I love neural networks\"\n",
    "\n",
    "print(f\"{question_to_vec(question, wv_embeddings, tokenizer)[2]:.2f}\")\n"
   ],
   "outputs": [
    {
     "name": "stdout",
     "output_type": "stream",
     "text": [
      "-1.29\n"
     ]
    }
   ],
   "execution_count": 7
  },
  {
   "cell_type": "markdown",
   "source": [],
   "metadata": {
    "id": "wGNTG18dY73d"
   }
  },
  {
   "cell_type": "markdown",
   "metadata": {
    "id": "Y60z4t6W6j16"
   },
   "source": [
    "### Оценка близости текстов\n",
    "\n",
    "Представим, что мы используем идеальные векторные представления слов. Тогда косинусное расстояние между дублирующими предложениями должно быть меньше, чем между случайно взятыми предложениями.\n",
    "\n",
    "Сгенерируем для каждого из $N$ вопросов $R$ случайных отрицательных примеров и примешаем к ним также настоящие дубликаты. Для каждого вопроса будем ранжировать с помощью нашей модели $R + 1$ примеров и смотреть на позицию дубликата. Мы хотим, чтобы дубликат был первым в ранжированном списке.\n",
    "\n",
    "#### Hits@K\n",
    "Первой простой метрикой будет количество корректных попаданий для какого-то $K$:\n",
    "$$ \\text{Hits@K} = \\frac{1}{N}\\sum_{i=1}^N \\, [rank\\_q_i^{'} \\le K],$$\n",
    "* $\\begin{equation*}\n",
    "[x < 0 ] \\equiv\n",
    " \\begin{cases}\n",
    "   1, &x < 0\\\\\n",
    "   0, &x \\geq 0\n",
    " \\end{cases}\n",
    "\\end{equation*}$ - индикаторная функция\n",
    "* $q_i$ - $i$-ый вопрос\n",
    "* $q_i^{'}$ - его дубликат\n",
    "* $rank\\_q_i^{'}$ - позиция дубликата в ранжированном списке ближайших предложений для вопроса $q_i$.\n",
    "\n",
    "Hits@K  измеряет долю вопросов, для которых правильный ответ попал в топ-K позиций среди отранжированных кандидатов.\n",
    "\n",
    "#### DCG@K\n",
    "Второй метрикой будет упрощенная DCG метрика, учитывающая порядок элементов в списке путем домножения релевантности элемента на вес равный обратному логарифму номера позиции::\n",
    "$$ \\text{DCG@K} = \\frac{1}{N} \\sum_{i=1}^N\\frac{1}{\\log_2(1+rank\\_q_i^{'})}\\cdot[rank\\_q_i^{'} \\le K],$$\n",
    "С такой метрикой модель штрафуется за большой ранк корректного ответа.\n",
    "\n",
    "DCG@K  измеряет качество ранжирования, учитывая не только факт наличия правильного ответа в топ-K, но и ***его точную позицию***."
   ]
  },
  {
   "cell_type": "markdown",
   "metadata": {
    "id": "_tFemBkP6j1-"
   },
   "source": [
    "<img src='https://hsto.org/files/1c5/edf/dee/1c5edfdeebce4b71a86bdf986d9f88f2.jpg' width=400, height=200>"
   ]
  },
  {
   "cell_type": "markdown",
   "metadata": {
    "id": "0sUSxk866j1_"
   },
   "source": [
    "#### Пример оценок\n",
    "\n",
    "Вычислим описанные выше метрики для игрушечного примера.\n",
    "Пусть\n",
    "* $N = 1$, $R = 3$\n",
    "* <font color='green'>\"Что такое python?\"</font> - вопрос $q_1$\n",
    "* <font color='red'>\"Что такое язык python?\"</font> - его дубликат $q_i^{'}$\n",
    "\n",
    "Пусть модель выдала следующий ранжированный список кандидатов:\n",
    "\n",
    "1. \"Как изучить с++?\"\n",
    "2. <font color='red'>\"Что такое язык python?\"</font>\n",
    "3. \"Хочу учить Java\"\n",
    "4. \"Не понимаю Tensorflow\"\n",
    "\n",
    "$\\Rightarrow rank\\_q_i^{'} = 2$"
   ]
  },
  {
   "cell_type": "markdown",
   "source": [
    "Вычислим метрику *Hits@K* для *K = 1, 4*:\n",
    "\n",
    "- [K = 1] $\\text{Hits@1} =  [rank\\_q_i^{'} \\le 1]$\n",
    "\n",
    "Проверяем условие $ \\text{rank}_{q'_1} \\leq 1 $: ***условие неверно***.\n",
    "\n",
    "Следовательно, $[\\text{rank}_{q'_1} \\leq 1] = 0$.\n",
    "\n",
    "- [K = 4] $\\text{Hits@4} =  [rank\\_q_i^{'} \\le 4] = 1$\n",
    "\n",
    "Проверяем условие $ \\text{rank}_{q'_1} \\leq 4 $: ***условие верно***."
   ],
   "metadata": {
    "id": "-XXCbN3uUiHU"
   }
  },
  {
   "cell_type": "markdown",
   "source": [
    "Вычислим метрику *DCG@K* для *K = 1, 4*:\n",
    "- [K = 1] $\\text{DCG@1} = \\frac{1}{\\log_2(1+2)}\\cdot[2 \\le 1] = 0$\n",
    "- [K = 4] $\\text{DCG@4} = \\frac{1}{\\log_2(1+2)}\\cdot[2 \\le 4] = \\frac{1}{\\log_2{3}}$"
   ],
   "metadata": {
    "id": "Ya9gf-dvVGmm"
   }
  },
  {
   "cell_type": "markdown",
   "metadata": {
    "id": "B4L6HJJC6j2B"
   },
   "source": [
    "#### ***Вопрос 3***:\n",
    "* Вычислите `DCG@10`, если $rank\\_q_i^{'} = 9$(округлите до одного знака после запятой)\n",
    "\n"
   ]
  },
  {
   "cell_type": "markdown",
   "source": [
    "#### Более сложный пример оценок\n",
    "\n",
    "Рассмотрим пример с $ N > 1 $, где $ N = 3 $ (три вопроса) и для каждого вопроса заданы позиции их дубликатов. Вычислим метрики **Hits@K** для разных значений $ K $.\n",
    "\n",
    "---\n",
    "\n",
    "- $ N = 3 $: Три вопроса ($ q_1, q_2, q_3 $).\n",
    "- Для каждого вопроса известна позиция его дубликата ($ \\text{rank}_{q'_i} $):\n",
    "  - $ \\text{rank}_{q'_1} = 2 $,\n",
    "  - $ \\text{rank}_{q'_2} = 5 $,\n",
    "  - $ \\text{rank}_{q'_3} = 1 $.\n",
    "\n",
    "Мы будем вычислять **Hits@K** для $ K = 1, 5 $.\n",
    "\n",
    "---\n",
    "\n",
    "**Для $ K = 1 $:**\n",
    "\n",
    "Подставим значения:\n",
    "$$\n",
    "\\text{Hits@1} = \\frac{1}{3} \\cdot \\left( [\\text{rank}_{q'_1} \\leq 1] + [\\text{rank}_{q'_2} \\leq 1] + [\\text{rank}_{q'_3} \\leq 1] \\right).\n",
    "$$\n",
    "\n",
    "Проверяем условие $ \\text{rank}_{q'_i} \\leq 1 $ для каждого вопроса:\n",
    "- $ \\text{rank}_{q'_1} = 2 $ → $ 2 \\not\\leq 1 $ → $ 0 $,\n",
    "- $ \\text{rank}_{q'_2} = 5 $ → $ 5 \\not\\leq 1 $ → $ 0 $,\n",
    "- $ \\text{rank}_{q'_3} = 1 $ → $ 1 \\leq 1 $ → $ 1 $.\n",
    "\n",
    "Сумма:\n",
    "$$\n",
    "\\text{Hits@1} = \\frac{1}{3} \\cdot (0 + 0 + 1) = \\frac{1}{3}.\n",
    "$$\n",
    "\n",
    "$$\n",
    "\\boxed{\\text{Hits@1} = \\frac{1}{3}}.\n",
    "$$\n",
    "\n",
    "---\n",
    "\n",
    "**Для $ K = 5 $:**\n",
    "\n",
    "Подставим значения:\n",
    "$$\n",
    "\\text{Hits@5} = \\frac{1}{3} \\cdot \\left( [\\text{rank}_{q'_1} \\leq 5] + [\\text{rank}_{q'_2} \\leq 5] + [\\text{rank}_{q'_3} \\leq 5] \\right).\n",
    "$$\n",
    "\n",
    "Проверяем условие $ \\text{rank}_{q'_i} \\leq 5 $ для каждого вопроса:\n",
    "- $ \\text{rank}_{q'_1} = 2 $ → $ 2 \\leq 5 $ → $ 1 $,\n",
    "- $ \\text{rank}_{q'_2} = 5 $ → $ 5 \\leq 5 $ → $ 1 $,\n",
    "- $ \\text{rank}_{q'_3} = 1 $ → $ 1 \\leq 5 $ → $ 1 $.\n",
    "\n",
    "Сумма:\n",
    "$$\n",
    "\\text{Hits@5} = \\frac{1}{3} \\cdot (1 + 1 + 1) = 1.\n",
    "$$\n",
    "\n",
    "$$\n",
    "\\boxed{\\text{Hits@5} = 1}.\n",
    "$$"
   ],
   "metadata": {
    "id": "hM1PtUq3haNS"
   }
  },
  {
   "cell_type": "markdown",
   "source": [
    "Теперь вычислим метрику **DCG@K** для того же примера, где $ N = 3 $ (три вопроса), и для каждого вопроса известна позиция его дубликата ($ \\text{rank}_{q'_i} $):\n",
    "\n",
    "- $ \\text{rank}_{q'_1} = 2 $,\n",
    "- $ \\text{rank}_{q'_2} = 5 $,\n",
    "- $ \\text{rank}_{q'_3} = 1 $.\n",
    "\n",
    "Мы будем вычислять **DCG@K** для $ K = 1, 5 $.\n",
    "\n",
    "---\n",
    "**Для $ K = 1 $:**\n",
    "Подставим значения:\n",
    "$$\n",
    "\\text{DCG@1} = \\frac{1}{3} \\cdot \\left( \\frac{1}{\\log_2(1 + \\text{rank}_{q'_1})} \\cdot [\\text{rank}_{q'_1} \\leq 1] + \\frac{1}{\\log_2(1 + \\text{rank}_{q'_2})} \\cdot [\\text{rank}_{q'_2} \\leq 1] + \\frac{1}{\\log_2(1 + \\text{rank}_{q'_3})} \\cdot [\\text{rank}_{q'_3} \\leq 1] \\right).\n",
    "$$\n",
    "\n",
    "Проверяем условие $ \\text{rank}_{q'_i} \\leq 1 $ для каждого вопроса:\n",
    "- $ \\text{rank}_{q'_1} = 2 $ → $ 2 \\not\\leq 1 $ → $ 0 $,\n",
    "- $ \\text{rank}_{q'_2} = 5 $ → $ 5 \\not\\leq 1 $ → $ 0 $,\n",
    "- $ \\text{rank}_{q'_3} = 1 $ → $ 1 \\leq 1 $ → $ 1 $.\n",
    "\n",
    "Сумма:\n",
    "$$\n",
    "\\text{DCG@1} = \\frac{1}{3} \\cdot (0 + 0 + 1) = \\frac{1}{3}.\n",
    "$$\n",
    "$$\n",
    "\\boxed{\\text{DCG@1} = \\frac{1}{3}}.\n",
    "$$\n",
    "\n",
    "---\n",
    "\n",
    "\n",
    "**Для $ K = 5 $:**\n",
    "Подставим значения:\n",
    "$$\n",
    "\\text{DCG@5} = \\frac{1}{3} \\cdot \\left( \\frac{1}{\\log_2(1 + \\text{rank}_{q'_1})} \\cdot [\\text{rank}_{q'_1} \\leq 5] + \\frac{1}{\\log_2(1 + \\text{rank}_{q'_2})} \\cdot [\\text{rank}_{q'_2} \\leq 5] + \\frac{1}{\\log_2(1 + \\text{rank}_{q'_3})} \\cdot [\\text{rank}_{q'_3} \\leq 5] \\right).\n",
    "$$\n",
    "\n",
    "Проверяем условие $ \\text{rank}_{q'_i} \\leq 5 $ для каждого вопроса:\n",
    "- $ \\text{rank}_{q'_1} = 2 $ → $ 2 \\leq 5 $ → $ 1 $,\n",
    "- $ \\text{rank}_{q'_2} = 5 $ → $ 5 \\leq 5 $ → $ 1 $,\n",
    "- $ \\text{rank}_{q'_3} = 1 $ → $ 1 \\leq 5 $ → $ 1 $.\n",
    "\n",
    "Сумма:\n",
    "$$\n",
    "\\text{DCG@5} = \\frac{1}{3} \\cdot (0.631 + 0.387 + 1) = \\frac{1}{3} \\cdot 2.018 \\approx 0.673.\n",
    "$$\n",
    "\n",
    "$$\n",
    "\\boxed{\\text{DCG@5} \\approx 0.673}.\n",
    "$$"
   ],
   "metadata": {
    "id": "ngfvO7JsqROf"
   }
  },
  {
   "cell_type": "markdown",
   "metadata": {
    "id": "eHCnH-jw6j18"
   },
   "source": [
    "#### ***Вопрос 4:***\n",
    "* Найдите максимум `Hits@47 - DCG@1`?\n",
    "\n"
   ]
  },
  {
   "metadata": {
    "ExecuteTime": {
     "end_time": "2025-09-25T10:57:18.547052Z",
     "start_time": "2025-09-25T10:57:18.538192Z"
    }
   },
   "cell_type": "code",
   "source": [
    "import math\n",
    "\n",
    "rank_q1 = 2\n",
    "rank_q2 = 5\n",
    "rank_q3 = 1\n",
    "\n",
    "ranks = [rank_q1, rank_q2, rank_q3]\n",
    "\n",
    "\n",
    "\n",
    "hits_k = lambda k_val, ranks_val : sum(1 if r_val <= k_val else 0 for r_val in ranks_val) / len(ranks_val)\n",
    "dcg_k = lambda k_val, ranks_val :sum((1 if r_val <= k_val else 0) / (math.log2(1+r_val))  for r_val in ranks_val)/ len(ranks_val)\n",
    "\n",
    "\n",
    "print(hits_k(47, ranks) - dcg_k(1, ranks))\n",
    "\n",
    "\n",
    "\n"
   ],
   "outputs": [
    {
     "name": "stdout",
     "output_type": "stream",
     "text": [
      "0.6666666666666667\n"
     ]
    }
   ],
   "execution_count": 8
  },
  {
   "cell_type": "markdown",
   "metadata": {
    "id": "J5xWOORI6j2F"
   },
   "source": [
    "### HITS\\_COUNT и DCG\\_SCORE"
   ]
  },
  {
   "cell_type": "markdown",
   "metadata": {
    "id": "I1q9WQOx6j2H"
   },
   "source": [
    "Каждая функция имеет два аргумента: $dup\\_ranks$ и $k$.\n",
    "\n",
    "$dup\\_ranks$ является списком, который содержит рейтинги дубликатов (их позиции в ранжированном списке).\n",
    "\n",
    "К примеру для <font color='red'>\"Что такое язык python?\"</font> $dup\\_ranks = [2]$."
   ]
  },
  {
   "cell_type": "code",
   "metadata": {
    "id": "F5VwySUB6j2J",
    "ExecuteTime": {
     "end_time": "2025-09-25T10:57:18.647018Z",
     "start_time": "2025-09-25T10:57:18.639080Z"
    }
   },
   "source": [
    "def hits_count(dup_ranks, k):\n",
    "    \"\"\"\n",
    "        dup_ranks: list индексов дубликатов\n",
    "        k: пороговое значение для ранга\n",
    "        result: вернуть Hits@k\n",
    "    \"\"\"\n",
    "    # Подсчитываем количество дубликатов, чей ранг <= k\n",
    "\n",
    "    return hits_k(k, dup_ranks)"
   ],
   "outputs": [],
   "execution_count": 9
  },
  {
   "cell_type": "code",
   "source": [
    "dup_ranks = [2]\n",
    "\n",
    "k = 1\n",
    "hits_value = hits_count(dup_ranks, k)\n",
    "print(f\"Hits@1 = {hits_value}\")\n",
    "\n",
    "k = 4\n",
    "hits_value = hits_count(dup_ranks, k)\n",
    "print(f\"Hits@4 = {hits_value}\")"
   ],
   "metadata": {
    "id": "vSjm_5eWYVYI",
    "ExecuteTime": {
     "end_time": "2025-09-25T10:57:18.719033Z",
     "start_time": "2025-09-25T10:57:18.710034Z"
    }
   },
   "outputs": [
    {
     "name": "stdout",
     "output_type": "stream",
     "text": [
      "Hits@1 = 0.0\n",
      "Hits@4 = 1.0\n"
     ]
    }
   ],
   "execution_count": 10
  },
  {
   "cell_type": "code",
   "metadata": {
    "id": "82hQaxCH6j2R",
    "ExecuteTime": {
     "end_time": "2025-09-25T10:57:18.812400Z",
     "start_time": "2025-09-25T10:57:18.806537Z"
    }
   },
   "source": [
    "\n",
    "\n",
    "def dcg_score(dup_ranks, k):\n",
    "    \"\"\"\n",
    "        dup_ranks: list индексов дубликатов\n",
    "        k: пороговое значение для ранга\n",
    "        result: вернуть DCG@k\n",
    "    \"\"\"\n",
    "\n",
    "    return dcg_k(k, dup_ranks)"
   ],
   "outputs": [],
   "execution_count": 11
  },
  {
   "cell_type": "code",
   "source": [
    "# Пример списка позиций дубликатов\n",
    "dup_ranks = [2]\n",
    "\n",
    "# Вычисляем DCG@1\n",
    "dcg_value = dcg_score(dup_ranks, k=1)\n",
    "print(f\"DCG@1 = {dcg_value:.3f}\")\n",
    "\n",
    "# Вычисляем DCG@4\n",
    "dcg_value = dcg_score(dup_ranks, k=4)\n",
    "print(f\"DCG@10 = {dcg_value:.3f}\")"
   ],
   "metadata": {
    "id": "OJYsEdx-amB4",
    "ExecuteTime": {
     "end_time": "2025-09-25T10:57:18.870931Z",
     "start_time": "2025-09-25T10:57:18.861748Z"
    }
   },
   "outputs": [
    {
     "name": "stdout",
     "output_type": "stream",
     "text": [
      "DCG@1 = 0.000\n",
      "DCG@10 = 0.631\n"
     ]
    }
   ],
   "execution_count": 12
  },
  {
   "cell_type": "markdown",
   "metadata": {
    "id": "PcwHeXN26j2Y"
   },
   "source": [
    "Протестируем функции. Пусть $N = 1$, то есть один эксперимент. Будем искать копию вопроса и оценивать метрики."
   ]
  },
  {
   "cell_type": "code",
   "metadata": {
    "id": "fjISmOEW6j2h",
    "ExecuteTime": {
     "end_time": "2025-09-25T10:57:18.994448Z",
     "start_time": "2025-09-25T10:57:18.988448Z"
    }
   },
   "source": [
    "import pandas as pd"
   ],
   "outputs": [],
   "execution_count": 13
  },
  {
   "cell_type": "code",
   "metadata": {
    "id": "gLa_Wqfh6j2m",
    "ExecuteTime": {
     "end_time": "2025-09-25T10:57:19.037974Z",
     "start_time": "2025-09-25T10:57:19.029983Z"
    }
   },
   "source": [
    "copy_answers = [\"How does the catch keyword determine the type of exception that was thrown\",]\n",
    "\n",
    "# наши кандидаты\n",
    "candidates_ranking = [[\"How Can I Make These Links Rotate in PHP\",\n",
    "                       \"How does the catch keyword determine the type of exception that was thrown\",\n",
    "                       \"NSLog array description not memory address\",\n",
    "                       \"PECL_HTTP not recognised php ubuntu\"],]\n",
    "\n",
    "# dup_ranks — позиции наших копий, так как эксперимент один, то этот массив длины 1\n",
    "dup_ranks = [candidates_ranking[0].index(copy_answers[0]) + 1]\n",
    "\n",
    "# вычисляем метрику для разных k\n",
    "print('Ваш ответ HIT:', [hits_count(dup_ranks, k) for k in range(1, 5)])\n",
    "print('Ваш ответ DCG:', [round(dcg_score(dup_ranks, k), 5) for k in range(1, 5)])"
   ],
   "outputs": [
    {
     "name": "stdout",
     "output_type": "stream",
     "text": [
      "Ваш ответ HIT: [0.0, 1.0, 1.0, 1.0]\n",
      "Ваш ответ DCG: [0.0, 0.63093, 0.63093, 0.63093]\n"
     ]
    }
   ],
   "execution_count": 14
  },
  {
   "cell_type": "markdown",
   "metadata": {
    "id": "MoHC3YoQ6j2t"
   },
   "source": [
    "У вас должно получиться"
   ]
  },
  {
   "cell_type": "code",
   "metadata": {
    "scrolled": true,
    "id": "B0NFWq4f6j2u",
    "colab": {
     "base_uri": "https://localhost:8080/",
     "height": 112
    },
    "outputId": "4d70f590-9924-4b50-d400-cdbf43edf093",
    "ExecuteTime": {
     "end_time": "2025-09-25T10:57:19.136261Z",
     "start_time": "2025-09-25T10:57:19.118645Z"
    }
   },
   "source": [
    "# correct_answers - метрика для разных k\n",
    "correct_answers = pd.DataFrame([[0, 1, 1, 1], [0, 1 / (np.log2(3)), 1 / (np.log2(3)), 1 / (np.log2(3))]],\n",
    "                               index=['HITS', 'DCG'], columns=range(1,5))\n",
    "correct_answers"
   ],
   "outputs": [
    {
     "data": {
      "text/plain": [
       "      1        2        3        4\n",
       "HITS  0  1.00000  1.00000  1.00000\n",
       "DCG   0  0.63093  0.63093  0.63093"
      ],
      "text/html": [
       "<div>\n",
       "<style scoped>\n",
       "    .dataframe tbody tr th:only-of-type {\n",
       "        vertical-align: middle;\n",
       "    }\n",
       "\n",
       "    .dataframe tbody tr th {\n",
       "        vertical-align: top;\n",
       "    }\n",
       "\n",
       "    .dataframe thead th {\n",
       "        text-align: right;\n",
       "    }\n",
       "</style>\n",
       "<table border=\"1\" class=\"dataframe\">\n",
       "  <thead>\n",
       "    <tr style=\"text-align: right;\">\n",
       "      <th></th>\n",
       "      <th>1</th>\n",
       "      <th>2</th>\n",
       "      <th>3</th>\n",
       "      <th>4</th>\n",
       "    </tr>\n",
       "  </thead>\n",
       "  <tbody>\n",
       "    <tr>\n",
       "      <th>HITS</th>\n",
       "      <td>0</td>\n",
       "      <td>1.00000</td>\n",
       "      <td>1.00000</td>\n",
       "      <td>1.00000</td>\n",
       "    </tr>\n",
       "    <tr>\n",
       "      <th>DCG</th>\n",
       "      <td>0</td>\n",
       "      <td>0.63093</td>\n",
       "      <td>0.63093</td>\n",
       "      <td>0.63093</td>\n",
       "    </tr>\n",
       "  </tbody>\n",
       "</table>\n",
       "</div>"
      ]
     },
     "execution_count": 15,
     "metadata": {},
     "output_type": "execute_result"
    }
   ],
   "execution_count": 15
  },
  {
   "cell_type": "markdown",
   "metadata": {
    "id": "tHZqgDTo6j0i"
   },
   "source": [
    "### Данные\n",
    "[arxiv link](https://drive.google.com/file/d/1QqT4D0EoqJTy7v9VrNCYD-m964XZFR7_/edit)\n",
    "\n",
    "`train.tsv` - выборка для обучения.<br> В каждой строке через табуляцию записаны: **<вопрос>, <похожий вопрос>**\n",
    "\n",
    "`validation.tsv` - тестовая выборка.<br> В каждой строке через табуляцию записаны: **<вопрос>, <похожий вопрос>, <отрицательный пример 1>, <отрицательный пример 2>, ...**\n"
   ]
  },
  {
   "metadata": {
    "ExecuteTime": {
     "end_time": "2025-09-25T10:57:19.341074Z",
     "start_time": "2025-09-25T10:57:19.331975Z"
    }
   },
   "cell_type": "code",
   "source": [
    "out_path = Path(\"stackoverflow_similar_questions.zip\")\n",
    "\n",
    "if not out_path.exists():\n",
    "    import gdown\n",
    "    import zipfile\n",
    "\n",
    "    gdown.download(\n",
    "        id=\"1QqT4D0EoqJTy7v9VrNCYD-m964XZFR7_\",\n",
    "        output=str(out_path.resolve()),\n",
    "        quiet=False\n",
    "    )\n",
    "    Path(\"data\").mkdir(exist_ok=True)\n",
    "\n",
    "    with zipfile.ZipFile(out_path, \"r\") as zf:\n",
    "        zf.extractall(path=\".\")\n"
   ],
   "outputs": [],
   "execution_count": 16
  },
  {
   "cell_type": "markdown",
   "metadata": {
    "id": "hil2UsUG6j22"
   },
   "source": [
    "Считайте данные."
   ]
  },
  {
   "cell_type": "code",
   "metadata": {
    "id": "B4EBho8s6j26",
    "ExecuteTime": {
     "end_time": "2025-09-25T11:06:34.072798Z",
     "start_time": "2025-09-25T11:06:34.067947Z"
    }
   },
   "source": [
    "def read_corpus(filename):\n",
    "    data = []\n",
    "    with open(filename, encoding='utf-8') as file:\n",
    "        for l in file:\n",
    "            data.append(l.strip().split('\\t'))\n",
    "    return data"
   ],
   "outputs": [],
   "execution_count": 34
  },
  {
   "cell_type": "markdown",
   "metadata": {
    "id": "kkTxY3Mk9_nG"
   },
   "source": [
    "Нам понадобиться только файл validation."
   ]
  },
  {
   "cell_type": "code",
   "metadata": {
    "id": "PTVB9Tnp6j29",
    "ExecuteTime": {
     "end_time": "2025-09-25T10:57:21.948529Z",
     "start_time": "2025-09-25T10:57:19.838002Z"
    }
   },
   "source": [
    "validation_data = read_corpus('./data/validation.tsv')"
   ],
   "outputs": [],
   "execution_count": 18
  },
  {
   "cell_type": "markdown",
   "metadata": {
    "id": "bTHfL-9y6j3F"
   },
   "source": [
    "Кол-во строк"
   ]
  },
  {
   "cell_type": "code",
   "metadata": {
    "scrolled": false,
    "id": "z6ubXhIe6j3H",
    "ExecuteTime": {
     "end_time": "2025-09-25T10:57:22.274940Z",
     "start_time": "2025-09-25T10:57:22.264505Z"
    }
   },
   "source": [
    "len(validation_data)"
   ],
   "outputs": [
    {
     "data": {
      "text/plain": [
       "3760"
      ]
     },
     "execution_count": 19,
     "metadata": {},
     "output_type": "execute_result"
    }
   ],
   "execution_count": 19
  },
  {
   "cell_type": "markdown",
   "metadata": {
    "id": "kaOQblBy6j3M"
   },
   "source": [
    "Размер нескольких первых строк"
   ]
  },
  {
   "cell_type": "code",
   "metadata": {
    "id": "yRx6e-Pe6j3M",
    "ExecuteTime": {
     "end_time": "2025-09-25T10:57:22.470625Z",
     "start_time": "2025-09-25T10:57:22.462668Z"
    }
   },
   "source": [
    "for i in range(25):\n",
    "    print(i + 1, len(validation_data[i]))"
   ],
   "outputs": [
    {
     "name": "stdout",
     "output_type": "stream",
     "text": [
      "1 1001\n",
      "2 1001\n",
      "3 1001\n",
      "4 1001\n",
      "5 1001\n",
      "6 1001\n",
      "7 1001\n",
      "8 1001\n",
      "9 1001\n",
      "10 1001\n",
      "11 1001\n",
      "12 1001\n",
      "13 1001\n",
      "14 1001\n",
      "15 1001\n",
      "16 1001\n",
      "17 1001\n",
      "18 1001\n",
      "19 1001\n",
      "20 1001\n",
      "21 1001\n",
      "22 1001\n",
      "23 1001\n",
      "24 1001\n",
      "25 1001\n"
     ]
    }
   ],
   "execution_count": 20
  },
  {
   "cell_type": "markdown",
   "metadata": {
    "id": "ySQQp0oQt1Ep"
   },
   "source": [
    "### Ранжирование без обучения"
   ]
  },
  {
   "cell_type": "markdown",
   "metadata": {
    "id": "iElEDhj-6j3R"
   },
   "source": [
    "Реализуйте функцию ранжирования кандидатов на основе косинусного расстояния. Функция должна по списку кандидатов вернуть отсортированный список пар (позиция в исходном списке кандидатов, кандидат). При этом позиция кандидата в полученном списке является его рейтингом (первый - лучший). Например, если исходный список кандидатов был [a, b, c], и самый похожий на исходный вопрос среди них - c, затем a, и в конце b, то функция должна вернуть список **[(2, c), (0, a), (1, b)]**."
   ]
  },
  {
   "cell_type": "code",
   "metadata": {
    "id": "K02JARKr6j3T",
    "ExecuteTime": {
     "end_time": "2025-09-25T10:57:22.628276Z",
     "start_time": "2025-09-25T10:57:22.622927Z"
    }
   },
   "source": "from sklearn.metrics.pairwise import cosine_similarity",
   "outputs": [],
   "execution_count": 21
  },
  {
   "cell_type": "code",
   "metadata": {
    "id": "1yP8wJWj6j3X",
    "ExecuteTime": {
     "end_time": "2025-09-25T10:57:22.723289Z",
     "start_time": "2025-09-25T10:57:22.713913Z"
    }
   },
   "source": [
    "from collections import OrderedDict\n",
    "\n",
    "def rank_candidates(quest:str, cand:list[str], embeddings:KeyedVectors, tokenizer_engine:WordPunctTokenizer, dim:int=200)->list[tuple[int, str]]:\n",
    "    \"\"\"\n",
    "        quest: строка\n",
    "        cand: массив строк(кандидатов) [a, b, c]\n",
    "        embeddings: наше векторное представление\n",
    "        tokenizer_engine: токенайзер\n",
    "        dim: размер любого вектора в нашем представлении\n",
    "\n",
    "        result: пары (начальная позиция, кандидат) [(2, c), (0, a), (1, b)]\n",
    "    \"\"\"\n",
    "    if embeddings.vector_size != dim:\n",
    "        raise ValueError(\"wrong dim\")\n",
    "    question_vec = question_to_vec(quest,embeddings, tokenizer_engine, dim ).reshape(1, -1)\n",
    "    answers_vec = np.vstack([question_to_vec(c, embeddings, tokenizer_engine, dim) for c in cand])\n",
    "    similarity = cosine_similarity(question_vec,answers_vec)[0]\n",
    "    similarity_sort =  sorted({(idx, cand[idx]): sim for idx, sim in enumerate(similarity)}.items(), key=lambda kv: kv[1], reverse=True)\n",
    "\n",
    "    result =  list(OrderedDict(similarity_sort).keys())\n",
    "\n",
    "    return result\n"
   ],
   "outputs": [],
   "execution_count": 22
  },
  {
   "cell_type": "markdown",
   "metadata": {
    "id": "TnBszTb76j3c"
   },
   "source": [
    "Протестируйте работу функции на примерах ниже. Пусть $N=2$, то есть два эксперимента"
   ]
  },
  {
   "cell_type": "code",
   "metadata": {
    "id": "xvQgtP176j3h",
    "ExecuteTime": {
     "end_time": "2025-09-25T10:57:22.821302Z",
     "start_time": "2025-09-25T10:57:22.815303Z"
    }
   },
   "source": [
    "questions = ['converting string to list', 'Sending array via Ajax fails']\n",
    "\n",
    "candidates = [['Convert Google results object (pure js) to Python object', # первый эксперимент\n",
    "               'C# create cookie from string and send it',\n",
    "               'How to use jQuery AJAX for an outside domain?'],\n",
    "\n",
    "              ['Getting all list items of an unordered list in PHP',      # второй эксперимент\n",
    "               'WPF- How to update the changes in list item of a list',\n",
    "               'select2 not displaying search results']]"
   ],
   "outputs": [],
   "execution_count": 23
  },
  {
   "cell_type": "code",
   "metadata": {
    "id": "bPj1JGFi6j3m",
    "ExecuteTime": {
     "end_time": "2025-09-25T10:57:22.877710Z",
     "start_time": "2025-09-25T10:57:22.863726Z"
    }
   },
   "source": [
    "for question, q_candidates in zip(questions, candidates):\n",
    "        ranks = rank_candidates(question, q_candidates, wv_embeddings, tokenizer)\n",
    "        print(ranks)\n",
    "        print()"
   ],
   "outputs": [
    {
     "name": "stdout",
     "output_type": "stream",
     "text": [
      "[(1, 'C# create cookie from string and send it'), (0, 'Convert Google results object (pure js) to Python object'), (2, 'How to use jQuery AJAX for an outside domain?')]\n",
      "\n",
      "[(0, 'Getting all list items of an unordered list in PHP'), (2, 'select2 not displaying search results'), (1, 'WPF- How to update the changes in list item of a list')]\n",
      "\n"
     ]
    }
   ],
   "execution_count": 24
  },
  {
   "cell_type": "markdown",
   "metadata": {
    "id": "jm4cidj56j3q"
   },
   "source": [
    "Для первого экперимента вы можете полностью сравнить ваши ответы и правильные ответы. Но для второго эксперимента два ответа на кандидаты будут <b>скрыты</b>(*)"
   ]
  },
  {
   "cell_type": "code",
   "metadata": {
    "id": "0LeKMIsn6j3s",
    "ExecuteTime": {
     "end_time": "2025-09-25T10:57:22.930667Z",
     "start_time": "2025-09-25T10:57:22.923726Z"
    }
   },
   "source": [
    "# должно вывести\n",
    "results = [[(1, 'C# create cookie from string and send it'),\n",
    "            (0, 'Convert Google results object (pure js) to Python object'),\n",
    "            (2, 'How to use jQuery AJAX for an outside domain?')],\n",
    "           [(0, 'Getting all list items of an unordered list in PHP'),\n",
    "            (2, 'select2 not displaying search results'),\n",
    "            (1, 'WPF- How to update the changes in list item of a list')]]"
   ],
   "outputs": [],
   "execution_count": 25
  },
  {
   "cell_type": "markdown",
   "metadata": {
    "id": "t1ttnIBe6j3x"
   },
   "source": [
    "Последовательность начальных индексов вы должны получить `для эксперимента 1`  1, 0, 2."
   ]
  },
  {
   "cell_type": "markdown",
   "metadata": {
    "id": "5WQgYDWd6j3y"
   },
   "source": [
    "#### ***Вопрос 5:***\n",
    "* Какую последовательность начальных индексов вы получили `для эксперимента 2`(перечисление без запятой и пробелов, например, `102` для первого эксперимента?\n",
    "\n",
    "Ответ: `021`\n"
   ]
  },
  {
   "cell_type": "markdown",
   "metadata": {
    "id": "fPllOY-Y6j30"
   },
   "source": [
    "Теперь мы можем оценить качество нашего метода. Запустите следующие два блока кода для получения результата. Обратите внимание, что вычисление расстояния между векторами занимает некоторое время (примерно 10 минут). Можете взять для validation 1000 примеров."
   ]
  },
  {
   "cell_type": "code",
   "metadata": {
    "id": "Z3q9sxddz-yU",
    "ExecuteTime": {
     "end_time": "2025-09-25T10:57:23.130421Z",
     "start_time": "2025-09-25T10:57:22.967420Z"
    }
   },
   "source": "from tqdm.auto import tqdm",
   "outputs": [],
   "execution_count": 26
  },
  {
   "cell_type": "code",
   "metadata": {
    "id": "nu7K4mis6j32",
    "ExecuteTime": {
     "end_time": "2025-09-25T10:59:48.077846Z",
     "start_time": "2025-09-25T10:57:23.156950Z"
    }
   },
   "source": [
    "wv_ranking = []\n",
    "# max_validation_examples = 1000\n",
    "for i, line in enumerate(tqdm(validation_data)):\n",
    "    # if i == max_validation_examples:\n",
    "    #     break\n",
    "    q, *ex = line\n",
    "    ranks = rank_candidates(q, ex, wv_embeddings, tokenizer)\n",
    "    wv_ranking.append([r[0] for r in ranks].index(0) + 1)"
   ],
   "outputs": [
    {
     "data": {
      "text/plain": [
       "  0%|          | 0/3760 [00:00<?, ?it/s]"
      ],
      "application/vnd.jupyter.widget-view+json": {
       "version_major": 2,
       "version_minor": 0,
       "model_id": "1303666c5d88466c9ae1a0d339303e13"
      }
     },
     "metadata": {},
     "output_type": "display_data",
     "jetTransient": {
      "display_id": null
     }
    }
   ],
   "execution_count": 27
  },
  {
   "cell_type": "code",
   "metadata": {
    "scrolled": true,
    "id": "gDtS520v6j35",
    "ExecuteTime": {
     "end_time": "2025-09-25T10:59:48.305516Z",
     "start_time": "2025-09-25T10:59:48.274423Z"
    }
   },
   "source": [
    "for k in tqdm([1, 5, 10, 100, 500, 1000]):\n",
    "    print(\"DCG@%4d: %.3f | Hits@%4d: %.3f\" % (k, dcg_score(wv_ranking, k), k, hits_count(wv_ranking, k)))"
   ],
   "outputs": [
    {
     "data": {
      "text/plain": [
       "  0%|          | 0/6 [00:00<?, ?it/s]"
      ],
      "application/vnd.jupyter.widget-view+json": {
       "version_major": 2,
       "version_minor": 0,
       "model_id": "275bb2fc10814ea49aa8417824553f71"
      }
     },
     "metadata": {},
     "output_type": "display_data",
     "jetTransient": {
      "display_id": null
     }
    },
    {
     "name": "stdout",
     "output_type": "stream",
     "text": [
      "DCG@   1: 0.408 | Hits@   1: 0.408\n",
      "DCG@   5: 0.498 | Hits@   5: 0.578\n",
      "DCG@  10: 0.522 | Hits@  10: 0.651\n",
      "DCG@ 100: 0.567 | Hits@ 100: 0.868\n",
      "DCG@ 500: 0.580 | Hits@ 500: 0.975\n",
      "DCG@1000: 0.583 | Hits@1000: 1.000\n"
     ]
    }
   ],
   "execution_count": 28
  },
  {
   "cell_type": "markdown",
   "source": [
    "Из формул выше можно понять, что\n",
    "\n",
    "- $ \\text{Hits@K} $ **монотонно неубывающая функция** $ K $, которая стремится к 1 при $ K \\to \\infty $.\n",
    "\n",
    "- $ \\text{DCG@K} $ **монотонно неубывающая функция** $ K $, но рост замедляется с увеличением $ K $ из-за убывания веса $ \\frac{1}{\\log_2(1 + \\text{rank}_{q'_i})} $."
   ],
   "metadata": {
    "id": "SZ16fNZ4mxTC"
   }
  },
  {
   "cell_type": "markdown",
   "metadata": {
    "id": "LL6_Rjg3InL8"
   },
   "source": [
    "### Эмбеддинги, обученные на корпусе похожих вопросов"
   ]
  },
  {
   "cell_type": "code",
   "metadata": {
    "id": "iNvbpR5gJIPz",
    "ExecuteTime": {
     "end_time": "2025-09-25T10:59:50.612070Z",
     "start_time": "2025-09-25T10:59:48.325540Z"
    }
   },
   "source": [
    "train_data = read_corpus('./data/train.tsv')"
   ],
   "outputs": [],
   "execution_count": 29
  },
  {
   "cell_type": "markdown",
   "metadata": {
    "id": "Nr281ZyEJfjT"
   },
   "source": [
    "Улучшите качество модели.<br>Склеим вопросы в пары и обучим на них модель Word2Vec из gensim. Выберите размер window. Объясните свой выбор.\n",
    "\n",
    "***Рассмотрим подробнее*** данное склеивание.\n",
    "\n",
    "1. Каждая строка из train_data разбивается на вопрос (question) и список кандидатов.\n",
    "\n",
    "2. Для каждого кандидата вопрос склеивается с ним в одну строку.\n",
    "\n",
    "3. Склеенная строка (combined_text) токенизируется, и полученный список токенов добавляется в общий корпус (corpus).\n",
    "\n",
    "***Пример***\n",
    "\n",
    "    Вопрос: \"What is Python?\"\n",
    "    Кандидаты: [\"Python is a programming language\", \"Java is another language\"]\n",
    "    Склеенные строки:\n",
    "        \"What is Python? Python is a programming language\"\n",
    "        \"What is Python? Java is another language\"\n",
    "         \n",
    "    Токенизированные списки:\n",
    "        ['what', 'is', 'python', 'python', 'is', 'a', 'programming', 'language']\n",
    "        ['what', 'is', 'python', 'java', 'is', 'another', 'language']\n",
    "         \n",
    "     "
   ]
  },
  {
   "cell_type": "code",
   "source": [
    "train_data[111258]"
   ],
   "metadata": {
    "id": "9NNgRRiu8-LL",
    "ExecuteTime": {
     "end_time": "2025-09-25T10:59:50.763489Z",
     "start_time": "2025-09-25T10:59:50.756490Z"
    }
   },
   "outputs": [
    {
     "data": {
      "text/plain": [
       "['Determine if the device is a smartphone or tablet?',\n",
       " 'Change imageView params in all cards together']"
      ]
     },
     "execution_count": 30,
     "metadata": {},
     "output_type": "execute_result"
    }
   ],
   "execution_count": 30
  },
  {
   "cell_type": "code",
   "metadata": {
    "id": "f6Y46SSQMTL0",
    "ExecuteTime": {
     "end_time": "2025-09-25T11:16:10.561689Z",
     "start_time": "2025-09-25T11:15:54.459205Z"
    }
   },
   "source": [
    "# Создаем общий корпус текстов\n",
    "corpus = []\n",
    "for train_item in train_data:\n",
    "    if len(train_item) <= 1:\n",
    "        continue\n",
    "    quest  = train_item[0]\n",
    "    for cand in train_item[1:]:\n",
    "        combined_text = f\"{quest} {cand}\"\n",
    "        corpus.append(tokenizer.tokenize(combined_text))\n",
    "\n",
    "\n",
    "\n",
    "\n"
   ],
   "outputs": [],
   "execution_count": 39
  },
  {
   "cell_type": "code",
   "metadata": {
    "id": "QuJzAM0cI-UH",
    "ExecuteTime": {
     "end_time": "2025-09-25T12:29:52.189069Z",
     "start_time": "2025-09-25T12:27:13.652623Z"
    }
   },
   "source": [
    "from gensim.models import Word2Vec\n",
    "embeddings_trained = Word2Vec(\n",
    "    sentences=corpus,        # Корпус токенизированных текстов\n",
    "    vector_size=200,         # Размерность векторов\n",
    "    window=10,                # Размер окна контекста\n",
    "    min_count=5,             # Минимальная частота слов\n",
    "    workers=8                # Количество потоков\n",
    ").wv"
   ],
   "outputs": [],
   "execution_count": 44
  },
  {
   "cell_type": "code",
   "metadata": {
    "id": "OQonbm4nMenD",
    "ExecuteTime": {
     "end_time": "2025-09-25T12:31:24.346400Z",
     "start_time": "2025-09-25T12:29:54.903405Z"
    }
   },
   "source": [
    "wv_ranking = []\n",
    "max_validation_examples = 1000\n",
    "for i, line in enumerate(tqdm(validation_data)):\n",
    "    if i == max_validation_examples:\n",
    "        break\n",
    "    q, *ex = line\n",
    "    ranks = rank_candidates(q, ex, embeddings_trained, tokenizer)\n",
    "    wv_ranking.append([r[0] for r in ranks].index(0) + 1)"
   ],
   "outputs": [
    {
     "data": {
      "text/plain": [
       "  0%|          | 0/3760 [00:00<?, ?it/s]"
      ],
      "application/vnd.jupyter.widget-view+json": {
       "version_major": 2,
       "version_minor": 0,
       "model_id": "6bb3cde831df49c99f88cc5dd90c2581"
      }
     },
     "metadata": {},
     "output_type": "display_data",
     "jetTransient": {
      "display_id": null
     }
    }
   ],
   "execution_count": 45
  },
  {
   "cell_type": "code",
   "metadata": {
    "id": "3kahBUPGMgGR",
    "ExecuteTime": {
     "end_time": "2025-09-25T12:38:58.790153Z",
     "start_time": "2025-09-25T12:38:58.755043Z"
    }
   },
   "source": [
    "for k in tqdm([1, 5, 10, 100, 500, 1000]):\n",
    "    print(\"DCG@%4d: %.3f | Hits@%4d: %.3f\" % (k, dcg_score(wv_ranking, k), k, hits_count(wv_ranking, k)))"
   ],
   "outputs": [
    {
     "data": {
      "text/plain": [
       "  0%|          | 0/6 [00:00<?, ?it/s]"
      ],
      "application/vnd.jupyter.widget-view+json": {
       "version_major": 2,
       "version_minor": 0,
       "model_id": "f30ce7900a3d4ae2a05398bd7d65a58a"
      }
     },
     "metadata": {},
     "output_type": "display_data",
     "jetTransient": {
      "display_id": null
     }
    },
    {
     "name": "stdout",
     "output_type": "stream",
     "text": [
      "DCG@   1: 0.264 | Hits@   1: 0.264\n",
      "DCG@   5: 0.336 | Hits@   5: 0.400\n",
      "DCG@  10: 0.356 | Hits@  10: 0.461\n",
      "DCG@ 100: 0.409 | Hits@ 100: 0.727\n",
      "DCG@ 500: 0.435 | Hits@ 500: 0.930\n",
      "DCG@1000: 0.443 | Hits@1000: 1.000\n"
     ]
    }
   ],
   "execution_count": 47
  },
  {
   "cell_type": "markdown",
   "metadata": {
    "id": "tY8PxB0j-ThG"
   },
   "source": [
    "### Замечание:\n",
    "Решить эту задачу с помощью обучения полноценной нейронной сети будет вам предложено, как часть задания в одной из домашних работ по теме \"Диалоговые системы\"."
   ]
  },
  {
   "cell_type": "markdown",
   "metadata": {
    "id": "vymVj8IxO2PO"
   },
   "source": [
    "Напишите свой вывод о полученных результатах.\n",
    "* Какой принцип токенизации даёт качество лучше и почему?\n",
    "* Помогает ли нормализация слов?\n",
    "* Какие эмбеддинги лучше справляются с задачей и почему?\n",
    "* Почему получилось плохое качество решения задачи?\n",
    "* Предложите свой подход к решению задачи.\n",
    "\n",
    "## Вывод:\n"
   ]
  },
  {
   "cell_type": "markdown",
   "metadata": {
    "id": "emODHztAQUQz"
   },
   "source": []
  }
 ]
}
